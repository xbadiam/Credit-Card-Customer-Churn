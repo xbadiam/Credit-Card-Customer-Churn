{
  "nbformat": 4,
  "nbformat_minor": 0,
  "metadata": {
    "colab": {
      "provenance": [],
      "authorship_tag": "ABX9TyNj1D8spHB9P4TCnFW/qLL0",
      "include_colab_link": true
    },
    "kernelspec": {
      "name": "python3",
      "display_name": "Python 3"
    },
    "language_info": {
      "name": "python"
    }
  },
  "cells": [
    {
      "cell_type": "markdown",
      "metadata": {
        "id": "view-in-github",
        "colab_type": "text"
      },
      "source": [
        "<a href=\"https://colab.research.google.com/github/xbadiam/Portfolio/blob/main/Untitled4.ipynb\" target=\"_parent\"><img src=\"https://colab.research.google.com/assets/colab-badge.svg\" alt=\"Open In Colab\"/></a>"
      ]
    },
    {
      "cell_type": "markdown",
      "source": [
        "## NASA Turbofan Engine"
      ],
      "metadata": {
        "id": "qMz9fbF3M8dW"
      }
    },
    {
      "cell_type": "markdown",
      "source": [
        "## Mantenimiento Predictivo en la Industria 4.0: Anticipación de Fallos y Optimización de Maquinaria mediante Machine Learning.\n",
        "\n",
        "## 1. Introducción\n",
        "\n",
        "El objetivo de este conjunto de datos es predecir la vida útil remanente (RUL, por sus siglas en inglés) de cada motor en el conjunto de prueba. La RUL equivale al número de vuelos restantes para el motor después del último punto de datos en el conjunto de prueba.\n",
        "\n",
        "## 2. Conjunto de datos\n",
        "\n",
        "A continuación, se asigna los nombres a las columnas de los tres ficheros. Para ello, se consulta los nombres de las variables facilitados en el entorno web de NASA's Open Data Portal. Cada fila es un instante de los datos tomados durante un único ciclo operativo y cada columna es una variable diferente.\n",
        "\n",
        "* unit_number: identificador de la unidad (motor)\n",
        "* time_cycles: time, in cycles\n",
        "* op_set1: configuración operativa 1\n",
        "* op_set2: configuración operativa 2\n",
        "* op_set3: configuración operativa 3\n",
        "* s_1: medición del sensor 1\n",
        "* s_2: medición del sensor 1\n",
        ".......\n",
        "* s_26 medición del sensor 26\n",
        "\n"
      ],
      "metadata": {
        "id": "Hn_Tm7C-NF9W"
      }
    },
    {
      "cell_type": "code",
      "source": [],
      "metadata": {
        "id": "znWNF3IZNBNm"
      },
      "execution_count": null,
      "outputs": []
    }
  ]
}